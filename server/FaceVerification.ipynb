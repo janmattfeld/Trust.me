{
 "cells": [
  {
   "cell_type": "code",
   "execution_count": 3,
   "metadata": {
    "collapsed": false
   },
   "outputs": [
    {
     "name": "stdout",
     "output_type": "stream",
     "text": [
      "78a42fcd-56b9-40cd-9c91-310fc5a2bd43\n",
      "b71998f6-5962-4526-a401-9bc5bb879a68\n"
     ]
    }
   ],
   "source": [
    "import cognitive_face as CF\n",
    "import json\n",
    "\n",
    "CF.Key.set('eb110caa2e1f473ba0895560b813c0c7')\n",
    "\n",
    "def get_face_id(url):\n",
    "    return CF.face.detect(url)[0]['faceId']\n",
    "\n",
    "stephan1 = 'http://postbankserver.appspot.com/reference_image.jpg'\n",
    "face_id1 = get_face_id(stephan1)\n",
    "\n",
    "stephan2 = 'http://postbankserver.appspot.com/verify_image.jpg'\n",
    "face_id2 = get_face_id(stephan2)\n",
    "print face_id1\n",
    "print face_id2"
   ]
  },
  {
   "cell_type": "code",
   "execution_count": 2,
   "metadata": {
    "collapsed": false
   },
   "outputs": [
    {
     "name": "stdout",
     "output_type": "stream",
     "text": [
      "{u'isIdentical': True, u'confidence': 1.0}\n"
     ]
    }
   ],
   "source": [
    "print CF.face.verify(face_id=face_id1, another_face_id=face_id2)"
   ]
  },
  {
   "cell_type": "code",
   "execution_count": null,
   "metadata": {
    "collapsed": true
   },
   "outputs": [],
   "source": []
  }
 ],
 "metadata": {
  "kernelspec": {
   "display_name": "Python 2",
   "language": "python",
   "name": "python2"
  },
  "language_info": {
   "codemirror_mode": {
    "name": "ipython",
    "version": 2
   },
   "file_extension": ".py",
   "mimetype": "text/x-python",
   "name": "python",
   "nbconvert_exporter": "python",
   "pygments_lexer": "ipython2",
   "version": "2.7.10"
  }
 },
 "nbformat": 4,
 "nbformat_minor": 1
}
